{
 "cells": [
  {
   "cell_type": "code",
   "execution_count": 1,
   "id": "49f59a1d-2264-436c-82db-42d51158e7fd",
   "metadata": {},
   "outputs": [],
   "source": [
    "import numpy as np\n",
    "import pandas as pd\n",
    "import matplotlib.pyplot as plt\n",
    "\n",
    "import warnings\n",
    "warnings.filterwarnings('ignore')"
   ]
  },
  {
   "cell_type": "markdown",
   "id": "854c8d4a-1762-4edc-acf4-2aa73a2536b0",
   "metadata": {},
   "source": [
    "<h1>Завдання 1</h1>"
   ]
  },
  {
   "cell_type": "markdown",
   "id": "ce41b75e-1a22-4d29-899a-59480bacaac5",
   "metadata": {},
   "source": [
    "Побудувати емпіричну функцію розподілу даних"
   ]
  },
  {
   "cell_type": "code",
   "execution_count": 4,
   "id": "4861b55f-2806-4a52-aa38-db85387cc3a5",
   "metadata": {},
   "outputs": [],
   "source": [
    "x = np.array([2, 4, 6, 8, 10])\n",
    "n = np.array([1, 3, 5, 7, 4])"
   ]
  },
  {
   "cell_type": "code",
   "execution_count": 5,
   "id": "b144f3b8-7244-439b-a0cc-1535925911e4",
   "metadata": {},
   "outputs": [
    {
     "name": "stdout",
     "output_type": "stream",
     "text": [
      "Загальна кількість спостережень: 20\n"
     ]
    }
   ],
   "source": [
    "N = np.sum(n)\n",
    "print(f'Загальна кількість спостережень: {N}')"
   ]
  },
  {
   "cell_type": "markdown",
   "id": "cf18e77a-6e7a-42ad-97ee-35217729b7a8",
   "metadata": {},
   "source": [
    "Обчислєємо накопичені частоти. При x < 2 значення функції розподілу буде  рівне 0."
   ]
  },
  {
   "cell_type": "code",
   "execution_count": 7,
   "id": "298a423e-58ee-49b3-8eaa-ec5ae4b0de77",
   "metadata": {},
   "outputs": [],
   "source": [
    "df = pd.DataFrame([x, n]).T\n",
    "df.columns = ['x', 'n']\n",
    "df['frequency'] = df['n'] / N\n",
    "df['cumulative_frequency'] = df['frequency'].cumsum()"
   ]
  },
  {
   "cell_type": "code",
   "execution_count": 8,
   "id": "ce497aec-0f8b-4059-9618-5de1ba34cb84",
   "metadata": {},
   "outputs": [
    {
     "data": {
      "text/html": [
       "<div>\n",
       "<style scoped>\n",
       "    .dataframe tbody tr th:only-of-type {\n",
       "        vertical-align: middle;\n",
       "    }\n",
       "\n",
       "    .dataframe tbody tr th {\n",
       "        vertical-align: top;\n",
       "    }\n",
       "\n",
       "    .dataframe thead th {\n",
       "        text-align: right;\n",
       "    }\n",
       "</style>\n",
       "<table border=\"1\" class=\"dataframe\">\n",
       "  <thead>\n",
       "    <tr style=\"text-align: right;\">\n",
       "      <th></th>\n",
       "      <th>x</th>\n",
       "      <th>n</th>\n",
       "      <th>frequency</th>\n",
       "      <th>cumulative_frequency</th>\n",
       "    </tr>\n",
       "  </thead>\n",
       "  <tbody>\n",
       "    <tr>\n",
       "      <th>0</th>\n",
       "      <td>2</td>\n",
       "      <td>1</td>\n",
       "      <td>0.05</td>\n",
       "      <td>0.05</td>\n",
       "    </tr>\n",
       "    <tr>\n",
       "      <th>1</th>\n",
       "      <td>4</td>\n",
       "      <td>3</td>\n",
       "      <td>0.15</td>\n",
       "      <td>0.20</td>\n",
       "    </tr>\n",
       "    <tr>\n",
       "      <th>2</th>\n",
       "      <td>6</td>\n",
       "      <td>5</td>\n",
       "      <td>0.25</td>\n",
       "      <td>0.45</td>\n",
       "    </tr>\n",
       "    <tr>\n",
       "      <th>3</th>\n",
       "      <td>8</td>\n",
       "      <td>7</td>\n",
       "      <td>0.35</td>\n",
       "      <td>0.80</td>\n",
       "    </tr>\n",
       "    <tr>\n",
       "      <th>4</th>\n",
       "      <td>10</td>\n",
       "      <td>4</td>\n",
       "      <td>0.20</td>\n",
       "      <td>1.00</td>\n",
       "    </tr>\n",
       "  </tbody>\n",
       "</table>\n",
       "</div>"
      ],
      "text/plain": [
       "    x  n  frequency  cumulative_frequency\n",
       "0   2  1       0.05                  0.05\n",
       "1   4  3       0.15                  0.20\n",
       "2   6  5       0.25                  0.45\n",
       "3   8  7       0.35                  0.80\n",
       "4  10  4       0.20                  1.00"
      ]
     },
     "execution_count": 8,
     "metadata": {},
     "output_type": "execute_result"
    }
   ],
   "source": [
    "df"
   ]
  },
  {
   "cell_type": "code",
   "execution_count": 9,
   "id": "e209f1aa-82e3-4c7a-8057-9a8d52afeb20",
   "metadata": {},
   "outputs": [
    {
     "data": {
      "image/png": "[encoded data removed]",
      "text/plain": [
       "<Figure size 800x500 with 1 Axes>"
      ]
     },
     "metadata": {},
     "output_type": "display_data"
    }
   ],
   "source": [
    "x_plot = [df['x'].iloc[0] - 1]  # початкова точка лівіше мінімального x\n",
    "y_plot = [0]\n",
    "\n",
    "for i in range(len(df)):\n",
    "    x_plot.extend([df['x'].iloc[i], df['x'].iloc[i]])\n",
    "    y_plot.extend([y_plot[-1], df['cumulative_frequency'].iloc[i]])\n",
    "\n",
    "x_plot.append(df['x'].iloc[-1] + 1)  # кінець правіше максимального x\n",
    "y_plot.append(1)\n",
    "\n",
    "plt.figure(figsize=(8, 5))\n",
    "plt.step(x_plot, y_plot, where='post', color='blue', label='Емпірична функція розподілу')\n",
    "plt.scatter(df['x'], df['cumulative_frequency'], color='red', zorder=5)\n",
    "plt.title('Емпірична функція розподілу')\n",
    "plt.xlabel('x')\n",
    "plt.ylabel('F(x)')\n",
    "plt.grid(True)\n",
    "plt.legend()\n",
    "plt.tight_layout()\n",
    "plt.show()"
   ]
  },
  {
   "cell_type": "markdown",
   "id": "5a295621-4dc8-46f4-8cef-0cccb3d006f3",
   "metadata": {},
   "source": [
    "<h1>Завдання 2</h1>"
   ]
  },
  {
   "cell_type": "markdown",
   "id": "c73ff74b-4d4e-42c7-9e93-0f569a3a7187",
   "metadata": {},
   "source": [
    "Перевірити задане значення на аномальність за правилом 3-х сигм"
   ]
  },
  {
   "cell_type": "code",
   "execution_count": 12,
   "id": "f3281601-1540-4ef5-9567-18dcdb1f53b0",
   "metadata": {},
   "outputs": [],
   "source": [
    "x = np.array([0.5, 3, 3.5, 4, 4.5])\n",
    "n = np.array([1, 3, 7, 8, 1])"
   ]
  },
  {
   "cell_type": "code",
   "execution_count": 13,
   "id": "78f65edf-5ec5-459a-96e1-5bd6f9de1136",
   "metadata": {},
   "outputs": [
    {
     "name": "stdout",
     "output_type": "stream",
     "text": [
      "Загальна кількість спостережень: 20\n"
     ]
    }
   ],
   "source": [
    "N = np.sum(n)\n",
    "print(f'Загальна кількість спостережень: {N}')"
   ]
  },
  {
   "cell_type": "code",
   "execution_count": 14,
   "id": "1e8f2477-e547-4c1f-a033-6d7b1a673fe6",
   "metadata": {},
   "outputs": [
    {
     "name": "stdout",
     "output_type": "stream",
     "text": [
      "Математичне сподівання: 3.525\n"
     ]
    }
   ],
   "source": [
    "total_sum = 0\n",
    "for i, j in zip(x, n):\n",
    "    total_sum += i*j\n",
    "\n",
    "avg = total_sum/N\n",
    "print(f'Математичне сподівання: {avg}')"
   ]
  },
  {
   "cell_type": "code",
   "execution_count": 15,
   "id": "027f74b5-ae7d-4ae4-a9b2-bbdfaedb2699",
   "metadata": {},
   "outputs": [
    {
     "name": "stdout",
     "output_type": "stream",
     "text": [
      "Дисперсія: 0.636875\n"
     ]
    }
   ],
   "source": [
    "square_diff = 0\n",
    "for i, j in zip(x, n):\n",
    "    square_diff += j * (i - avg)**2\n",
    "\n",
    "variance = square_diff/N\n",
    "print(f'Дисперсія: {variance}')"
   ]
  },
  {
   "cell_type": "code",
   "execution_count": 16,
   "id": "aa032571-e4b3-4de1-88e2-d19cecfa3bdc",
   "metadata": {},
   "outputs": [
    {
     "name": "stdout",
     "output_type": "stream",
     "text": [
      "Стандартне відхилення: 0.7980444849756184\n"
     ]
    }
   ],
   "source": [
    "standard_deviation = variance**0.5\n",
    "print(f'Стандартне відхилення: {standard_deviation}')"
   ]
  },
  {
   "cell_type": "code",
   "execution_count": 17,
   "id": "6ce70fb1-6a95-4d8e-9b87-babf3d8ea5c2",
   "metadata": {},
   "outputs": [
    {
     "name": "stdout",
     "output_type": "stream",
     "text": [
      "[-3.79051551 -0.65785806 -0.03132657  0.59520492  1.2217364 ]\n"
     ]
    }
   ],
   "source": [
    "normalized_x = (x - avg)/standard_deviation\n",
    "print(normalized_x)"
   ]
  },
  {
   "cell_type": "markdown",
   "id": "20f5b458-71ef-475c-91ef-65ab89597834",
   "metadata": {},
   "source": [
    "Бачимо, що перше значення (0.5) відхиляється від середнього на більш ніж 3 стандартні відхилення, тому воно є аномальним."
   ]
  },
  {
   "cell_type": "markdown",
   "id": "318dc930-412f-40cb-9cf2-181550e0ec7f",
   "metadata": {},
   "source": [
    "<h1>Завдання 3</h1>"
   ]
  },
  {
   "cell_type": "markdown",
   "id": "07fd6f3a-0d52-4b04-9f01-4af60c63c61d",
   "metadata": {},
   "source": [
    "При рівні значимості a=0.05 перевірити гіпотезу про нормальність розподілу даних згідно критерію Колмогорова (lambda_kolm=1.45)"
   ]
  },
  {
   "cell_type": "code",
   "execution_count": 21,
   "id": "726d3461-cc20-4b78-9679-05fa97fbce8f",
   "metadata": {},
   "outputs": [],
   "source": [
    "n = np.array([2, 5, 6, 4, 3])\n",
    "m = np.array([1, 4, 5, 7, 3])"
   ]
  },
  {
   "cell_type": "code",
   "execution_count": 22,
   "id": "340eaac9-6d75-47b0-bcd7-5c72094d809a",
   "metadata": {},
   "outputs": [
    {
     "name": "stdout",
     "output_type": "stream",
     "text": [
      "Загальна кількість емпіричних спостережень: 20\n",
      "Загальна кількість теоретичних спостережень: 20\n"
     ]
    }
   ],
   "source": [
    "N = np.sum(n)\n",
    "print(f'Загальна кількість емпіричних спостережень: {N}')\n",
    "\n",
    "M = np.sum(m)\n",
    "print(f'Загальна кількість теоретичних спостережень: {M}')"
   ]
  },
  {
   "cell_type": "markdown",
   "id": "28fb6a7b-1713-4912-9e11-667a23279a4d",
   "metadata": {},
   "source": [
    "Порахуємо теоретичні та емпіричні частоти та їх накопичені значення"
   ]
  },
  {
   "cell_type": "code",
   "execution_count": 24,
   "id": "399fed55-b22a-4a6e-9b45-3ec3c2c4c162",
   "metadata": {},
   "outputs": [
    {
     "data": {
      "text/html": [
       "<div>\n",
       "<style scoped>\n",
       "    .dataframe tbody tr th:only-of-type {\n",
       "        vertical-align: middle;\n",
       "    }\n",
       "\n",
       "    .dataframe tbody tr th {\n",
       "        vertical-align: top;\n",
       "    }\n",
       "\n",
       "    .dataframe thead th {\n",
       "        text-align: right;\n",
       "    }\n",
       "</style>\n",
       "<table border=\"1\" class=\"dataframe\">\n",
       "  <thead>\n",
       "    <tr style=\"text-align: right;\">\n",
       "      <th></th>\n",
       "      <th>n</th>\n",
       "      <th>m</th>\n",
       "      <th>emp_freq</th>\n",
       "      <th>theor_freq</th>\n",
       "      <th>cum_emp_freq</th>\n",
       "      <th>cum_theor_freq</th>\n",
       "    </tr>\n",
       "  </thead>\n",
       "  <tbody>\n",
       "    <tr>\n",
       "      <th>0</th>\n",
       "      <td>2</td>\n",
       "      <td>1</td>\n",
       "      <td>0.10</td>\n",
       "      <td>0.05</td>\n",
       "      <td>0.10</td>\n",
       "      <td>0.05</td>\n",
       "    </tr>\n",
       "    <tr>\n",
       "      <th>1</th>\n",
       "      <td>5</td>\n",
       "      <td>4</td>\n",
       "      <td>0.25</td>\n",
       "      <td>0.20</td>\n",
       "      <td>0.35</td>\n",
       "      <td>0.25</td>\n",
       "    </tr>\n",
       "    <tr>\n",
       "      <th>2</th>\n",
       "      <td>6</td>\n",
       "      <td>5</td>\n",
       "      <td>0.30</td>\n",
       "      <td>0.25</td>\n",
       "      <td>0.65</td>\n",
       "      <td>0.50</td>\n",
       "    </tr>\n",
       "    <tr>\n",
       "      <th>3</th>\n",
       "      <td>4</td>\n",
       "      <td>7</td>\n",
       "      <td>0.20</td>\n",
       "      <td>0.35</td>\n",
       "      <td>0.85</td>\n",
       "      <td>0.85</td>\n",
       "    </tr>\n",
       "    <tr>\n",
       "      <th>4</th>\n",
       "      <td>3</td>\n",
       "      <td>3</td>\n",
       "      <td>0.15</td>\n",
       "      <td>0.15</td>\n",
       "      <td>1.00</td>\n",
       "      <td>1.00</td>\n",
       "    </tr>\n",
       "  </tbody>\n",
       "</table>\n",
       "</div>"
      ],
      "text/plain": [
       "   n  m  emp_freq  theor_freq  cum_emp_freq  cum_theor_freq\n",
       "0  2  1      0.10        0.05          0.10            0.05\n",
       "1  5  4      0.25        0.20          0.35            0.25\n",
       "2  6  5      0.30        0.25          0.65            0.50\n",
       "3  4  7      0.20        0.35          0.85            0.85\n",
       "4  3  3      0.15        0.15          1.00            1.00"
      ]
     },
     "execution_count": 24,
     "metadata": {},
     "output_type": "execute_result"
    }
   ],
   "source": [
    "df = pd.DataFrame([n, m]).T\n",
    "df.columns = ['n', 'm']\n",
    "\n",
    "df['emp_freq'] = df['n']/N\n",
    "df['theor_freq'] = df['m']/M\n",
    "\n",
    "df['cum_emp_freq'] = df['emp_freq'].cumsum()\n",
    "df['cum_theor_freq'] = df['theor_freq'].cumsum()\n",
    "\n",
    "df"
   ]
  },
  {
   "cell_type": "markdown",
   "id": "d022e977-88f9-4e56-a636-9a3ba2dac80e",
   "metadata": {},
   "source": [
    "Знайдемо максимальне відхилення"
   ]
  },
  {
   "cell_type": "code",
   "execution_count": 26,
   "id": "162620af-0c37-40eb-92bc-044e43fb8cfa",
   "metadata": {},
   "outputs": [
    {
     "data": {
      "text/html": [
       "<div>\n",
       "<style scoped>\n",
       "    .dataframe tbody tr th:only-of-type {\n",
       "        vertical-align: middle;\n",
       "    }\n",
       "\n",
       "    .dataframe tbody tr th {\n",
       "        vertical-align: top;\n",
       "    }\n",
       "\n",
       "    .dataframe thead th {\n",
       "        text-align: right;\n",
       "    }\n",
       "</style>\n",
       "<table border=\"1\" class=\"dataframe\">\n",
       "  <thead>\n",
       "    <tr style=\"text-align: right;\">\n",
       "      <th></th>\n",
       "      <th>n</th>\n",
       "      <th>m</th>\n",
       "      <th>emp_freq</th>\n",
       "      <th>theor_freq</th>\n",
       "      <th>cum_emp_freq</th>\n",
       "      <th>cum_theor_freq</th>\n",
       "      <th>abs_deviation</th>\n",
       "    </tr>\n",
       "  </thead>\n",
       "  <tbody>\n",
       "    <tr>\n",
       "      <th>0</th>\n",
       "      <td>2</td>\n",
       "      <td>1</td>\n",
       "      <td>0.10</td>\n",
       "      <td>0.05</td>\n",
       "      <td>0.10</td>\n",
       "      <td>0.05</td>\n",
       "      <td>0.05</td>\n",
       "    </tr>\n",
       "    <tr>\n",
       "      <th>1</th>\n",
       "      <td>5</td>\n",
       "      <td>4</td>\n",
       "      <td>0.25</td>\n",
       "      <td>0.20</td>\n",
       "      <td>0.35</td>\n",
       "      <td>0.25</td>\n",
       "      <td>0.10</td>\n",
       "    </tr>\n",
       "    <tr>\n",
       "      <th>2</th>\n",
       "      <td>6</td>\n",
       "      <td>5</td>\n",
       "      <td>0.30</td>\n",
       "      <td>0.25</td>\n",
       "      <td>0.65</td>\n",
       "      <td>0.50</td>\n",
       "      <td>0.15</td>\n",
       "    </tr>\n",
       "    <tr>\n",
       "      <th>3</th>\n",
       "      <td>4</td>\n",
       "      <td>7</td>\n",
       "      <td>0.20</td>\n",
       "      <td>0.35</td>\n",
       "      <td>0.85</td>\n",
       "      <td>0.85</td>\n",
       "      <td>0.00</td>\n",
       "    </tr>\n",
       "    <tr>\n",
       "      <th>4</th>\n",
       "      <td>3</td>\n",
       "      <td>3</td>\n",
       "      <td>0.15</td>\n",
       "      <td>0.15</td>\n",
       "      <td>1.00</td>\n",
       "      <td>1.00</td>\n",
       "      <td>0.00</td>\n",
       "    </tr>\n",
       "  </tbody>\n",
       "</table>\n",
       "</div>"
      ],
      "text/plain": [
       "   n  m  emp_freq  theor_freq  cum_emp_freq  cum_theor_freq  abs_deviation\n",
       "0  2  1      0.10        0.05          0.10            0.05           0.05\n",
       "1  5  4      0.25        0.20          0.35            0.25           0.10\n",
       "2  6  5      0.30        0.25          0.65            0.50           0.15\n",
       "3  4  7      0.20        0.35          0.85            0.85           0.00\n",
       "4  3  3      0.15        0.15          1.00            1.00           0.00"
      ]
     },
     "execution_count": 26,
     "metadata": {},
     "output_type": "execute_result"
    }
   ],
   "source": [
    "df['abs_deviation'] = (df['cum_emp_freq'] - df['cum_theor_freq']).map(np.abs).round(2)\n",
    "df"
   ]
  },
  {
   "cell_type": "code",
   "execution_count": 27,
   "id": "9aadbefb-4872-4814-aef1-7d4de954b875",
   "metadata": {},
   "outputs": [
    {
     "name": "stdout",
     "output_type": "stream",
     "text": [
      "Максимальне відхилення: 0.15\n"
     ]
    }
   ],
   "source": [
    "max_abs_deviation = df['abs_deviation'].max()\n",
    "print(f'Максимальне відхилення: {max_abs_deviation}')"
   ]
  },
  {
   "cell_type": "code",
   "execution_count": 28,
   "id": "00261676-b94e-4efc-b3b0-2504352af393",
   "metadata": {},
   "outputs": [
    {
     "name": "stdout",
     "output_type": "stream",
     "text": [
      "Емпіричне значення критерію Колмогорова: 0.6708\n"
     ]
    }
   ],
   "source": [
    "lambda_emp = round(max_abs_deviation * N**0.5, 4)\n",
    "print(f'Емпіричне значення критерію Колмогорова: {lambda_emp}')"
   ]
  },
  {
   "cell_type": "markdown",
   "id": "42404fb8-acde-4718-9a7f-f560f4f3b3b2",
   "metadata": {},
   "source": [
    "Оскільки емпіричне значення критерію Колмогорова менше за критичне значення 1.45, то у нас немає підстав відхиляти нульову гіпотезу і дані два набори даних належать одному розподілу"
   ]
  }
 ],
 "metadata": {
  "kernelspec": {
   "display_name": "Python [conda env:base] *",
   "language": "python",
   "name": "conda-base-py"
  },
  "language_info": {
   "codemirror_mode": {
    "name": "ipython",
    "version": 3
   },
   "file_extension": ".py",
   "mimetype": "text/x-python",
   "name": "python",
   "nbconvert_exporter": "python",
   "pygments_lexer": "ipython3",
   "version": "3.12.7"
  }
 },
 "nbformat": 4,
 "nbformat_minor": 5
}
